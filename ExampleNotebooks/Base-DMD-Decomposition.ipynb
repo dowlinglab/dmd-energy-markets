{
 "cells": [
  {
   "cell_type": "markdown",
   "metadata": {},
   "source": [
    "# Base Dynamic Mode Decomposition"
   ]
  },
  {
   "cell_type": "code",
   "execution_count": 1,
   "metadata": {
    "ExecuteTime": {
     "end_time": "2021-06-24T23:48:06.323305Z",
     "start_time": "2021-06-24T23:48:05.919721Z"
    }
   },
   "outputs": [],
   "source": [
    "from dmdTrading.visuals import Examples"
   ]
  },
  {
   "cell_type": "code",
   "execution_count": null,
   "metadata": {
    "ExecuteTime": {
     "start_time": "2021-06-24T23:48:05.901Z"
    }
   },
   "outputs": [
    {
     "name": "stdout",
     "output_type": "stream",
     "text": [
      "To show how DMD can be performed using the class given\n",
      "let us take a look at an example from Kutz's book on DMD\n",
      "\n",
      "We will look at a complex, periodic function given below:\n",
      "\n",
      "f(x,t) = sech(x+3)exp(2.3it) + 2sech(x)tanh(x)exp(2.8it)\n",
      "\n",
      "Now, the 3D function will be plotted on a surface plot as well as its\n",
      "DMD reconstruction based on rank reduction at 1,2, and 3 singular values.\n",
      "\n",
      "It can be shown that this function only has rank = 2, so notice how the DMD\n",
      "reconstruction at rank = 3 is pretty much identical to the rank = 2 surface.\n",
      "\n"
     ]
    }
   ],
   "source": [
    "Examples.kutz()"
   ]
  },
  {
   "cell_type": "code",
   "execution_count": null,
   "metadata": {},
   "outputs": [],
   "source": []
  }
 ],
 "metadata": {
  "kernelspec": {
   "display_name": "Python 3",
   "language": "python",
   "name": "python3"
  },
  "language_info": {
   "codemirror_mode": {
    "name": "ipython",
    "version": 3
   },
   "file_extension": ".py",
   "mimetype": "text/x-python",
   "name": "python",
   "nbconvert_exporter": "python",
   "pygments_lexer": "ipython3",
   "version": "3.9.0"
  },
  "toc": {
   "base_numbering": 1,
   "nav_menu": {},
   "number_sections": true,
   "sideBar": true,
   "skip_h1_title": false,
   "title_cell": "Table of Contents",
   "title_sidebar": "Contents",
   "toc_cell": false,
   "toc_position": {},
   "toc_section_display": true,
   "toc_window_display": false
  }
 },
 "nbformat": 4,
 "nbformat_minor": 4
}
