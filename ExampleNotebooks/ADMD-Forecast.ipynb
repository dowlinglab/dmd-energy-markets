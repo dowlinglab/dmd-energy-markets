{
 "cells": [
  {
   "cell_type": "markdown",
   "metadata": {},
   "source": [
    "# Augmented DMD Forecast"
   ]
  },
  {
   "cell_type": "code",
   "execution_count": 1,
   "metadata": {
    "ExecuteTime": {
     "end_time": "2021-06-25T15:40:57.862113Z",
     "start_time": "2021-06-25T15:40:57.276614Z"
    }
   },
   "outputs": [],
   "source": [
    "from dmdTrading.core import DMD\n",
    "from dmdTrading.utils import Augment\n",
    "import pandas as pd\n",
    "import numpy as np\n",
    "from matplotlib import pyplot as plt"
   ]
  },
  {
   "cell_type": "markdown",
   "metadata": {},
   "source": [
    "## Data Load"
   ]
  },
  {
   "cell_type": "code",
   "execution_count": 2,
   "metadata": {
    "ExecuteTime": {
     "end_time": "2021-06-25T15:41:04.972563Z",
     "start_time": "2021-06-25T15:40:57.865252Z"
    }
   },
   "outputs": [
    {
     "data": {
      "text/html": [
       "<div>\n",
       "<style scoped>\n",
       "    .dataframe tbody tr th:only-of-type {\n",
       "        vertical-align: middle;\n",
       "    }\n",
       "\n",
       "    .dataframe tbody tr th {\n",
       "        vertical-align: top;\n",
       "    }\n",
       "\n",
       "    .dataframe thead th {\n",
       "        text-align: right;\n",
       "    }\n",
       "</style>\n",
       "<table border=\"1\" class=\"dataframe\">\n",
       "  <thead>\n",
       "    <tr style=\"text-align: right;\">\n",
       "      <th></th>\n",
       "      <th>t_0</th>\n",
       "      <th>t_1</th>\n",
       "      <th>t_2</th>\n",
       "      <th>t_3</th>\n",
       "      <th>t_4</th>\n",
       "      <th>t_5</th>\n",
       "      <th>t_6</th>\n",
       "      <th>t_7</th>\n",
       "      <th>t_8</th>\n",
       "      <th>t_9</th>\n",
       "      <th>...</th>\n",
       "      <th>t_8750</th>\n",
       "      <th>t_8751</th>\n",
       "      <th>t_8752</th>\n",
       "      <th>t_8753</th>\n",
       "      <th>t_8754</th>\n",
       "      <th>t_8755</th>\n",
       "      <th>t_8756</th>\n",
       "      <th>t_8757</th>\n",
       "      <th>t_8758</th>\n",
       "      <th>t_8759</th>\n",
       "    </tr>\n",
       "  </thead>\n",
       "  <tbody>\n",
       "    <tr>\n",
       "      <th>node_0</th>\n",
       "      <td>37.4536</td>\n",
       "      <td>35.2093</td>\n",
       "      <td>33.7736</td>\n",
       "      <td>32.2931</td>\n",
       "      <td>34.0628</td>\n",
       "      <td>37.1774</td>\n",
       "      <td>39.1263</td>\n",
       "      <td>39.7813</td>\n",
       "      <td>35.8992</td>\n",
       "      <td>30.8112</td>\n",
       "      <td>...</td>\n",
       "      <td>22.4029</td>\n",
       "      <td>27.4676</td>\n",
       "      <td>34.3101</td>\n",
       "      <td>44.0656</td>\n",
       "      <td>43.4275</td>\n",
       "      <td>40.7375</td>\n",
       "      <td>38.7477</td>\n",
       "      <td>34.2279</td>\n",
       "      <td>33.4598</td>\n",
       "      <td>30.3272</td>\n",
       "    </tr>\n",
       "    <tr>\n",
       "      <th>node_1</th>\n",
       "      <td>35.3287</td>\n",
       "      <td>33.3665</td>\n",
       "      <td>31.9669</td>\n",
       "      <td>30.6517</td>\n",
       "      <td>32.2943</td>\n",
       "      <td>35.2636</td>\n",
       "      <td>37.0178</td>\n",
       "      <td>37.3970</td>\n",
       "      <td>33.7963</td>\n",
       "      <td>28.9887</td>\n",
       "      <td>...</td>\n",
       "      <td>21.2535</td>\n",
       "      <td>25.9039</td>\n",
       "      <td>30.8429</td>\n",
       "      <td>33.4944</td>\n",
       "      <td>33.0254</td>\n",
       "      <td>31.3358</td>\n",
       "      <td>34.3047</td>\n",
       "      <td>29.0287</td>\n",
       "      <td>31.6259</td>\n",
       "      <td>28.8040</td>\n",
       "    </tr>\n",
       "    <tr>\n",
       "      <th>node_2</th>\n",
       "      <td>35.3542</td>\n",
       "      <td>33.3802</td>\n",
       "      <td>31.9867</td>\n",
       "      <td>30.6611</td>\n",
       "      <td>32.3208</td>\n",
       "      <td>35.2781</td>\n",
       "      <td>37.0292</td>\n",
       "      <td>37.4395</td>\n",
       "      <td>33.8521</td>\n",
       "      <td>29.0397</td>\n",
       "      <td>...</td>\n",
       "      <td>21.2602</td>\n",
       "      <td>25.9093</td>\n",
       "      <td>30.9122</td>\n",
       "      <td>33.6480</td>\n",
       "      <td>33.1765</td>\n",
       "      <td>31.4729</td>\n",
       "      <td>34.4325</td>\n",
       "      <td>29.1282</td>\n",
       "      <td>31.7123</td>\n",
       "      <td>28.8642</td>\n",
       "    </tr>\n",
       "    <tr>\n",
       "      <th>node_3</th>\n",
       "      <td>35.7478</td>\n",
       "      <td>33.6656</td>\n",
       "      <td>32.3059</td>\n",
       "      <td>30.8911</td>\n",
       "      <td>32.6526</td>\n",
       "      <td>35.5572</td>\n",
       "      <td>37.3108</td>\n",
       "      <td>37.9873</td>\n",
       "      <td>34.4484</td>\n",
       "      <td>29.6132</td>\n",
       "      <td>...</td>\n",
       "      <td>21.8249</td>\n",
       "      <td>26.4859</td>\n",
       "      <td>32.5726</td>\n",
       "      <td>40.8667</td>\n",
       "      <td>40.0649</td>\n",
       "      <td>37.6359</td>\n",
       "      <td>36.6090</td>\n",
       "      <td>31.8292</td>\n",
       "      <td>31.5926</td>\n",
       "      <td>28.8642</td>\n",
       "    </tr>\n",
       "    <tr>\n",
       "      <th>node_4</th>\n",
       "      <td>35.3105</td>\n",
       "      <td>33.3424</td>\n",
       "      <td>31.9505</td>\n",
       "      <td>30.6264</td>\n",
       "      <td>32.2810</td>\n",
       "      <td>35.2383</td>\n",
       "      <td>36.9873</td>\n",
       "      <td>37.3854</td>\n",
       "      <td>33.7963</td>\n",
       "      <td>28.9947</td>\n",
       "      <td>...</td>\n",
       "      <td>21.2267</td>\n",
       "      <td>25.8794</td>\n",
       "      <td>30.4144</td>\n",
       "      <td>30.6428</td>\n",
       "      <td>30.2418</td>\n",
       "      <td>28.7951</td>\n",
       "      <td>33.6578</td>\n",
       "      <td>27.9885</td>\n",
       "      <td>31.8053</td>\n",
       "      <td>28.9244</td>\n",
       "    </tr>\n",
       "  </tbody>\n",
       "</table>\n",
       "<p>5 rows × 8760 columns</p>\n",
       "</div>"
      ],
      "text/plain": [
       "            t_0      t_1      t_2      t_3      t_4      t_5      t_6  \\\n",
       "node_0  37.4536  35.2093  33.7736  32.2931  34.0628  37.1774  39.1263   \n",
       "node_1  35.3287  33.3665  31.9669  30.6517  32.2943  35.2636  37.0178   \n",
       "node_2  35.3542  33.3802  31.9867  30.6611  32.3208  35.2781  37.0292   \n",
       "node_3  35.7478  33.6656  32.3059  30.8911  32.6526  35.5572  37.3108   \n",
       "node_4  35.3105  33.3424  31.9505  30.6264  32.2810  35.2383  36.9873   \n",
       "\n",
       "            t_7      t_8      t_9  ...   t_8750   t_8751   t_8752   t_8753  \\\n",
       "node_0  39.7813  35.8992  30.8112  ...  22.4029  27.4676  34.3101  44.0656   \n",
       "node_1  37.3970  33.7963  28.9887  ...  21.2535  25.9039  30.8429  33.4944   \n",
       "node_2  37.4395  33.8521  29.0397  ...  21.2602  25.9093  30.9122  33.6480   \n",
       "node_3  37.9873  34.4484  29.6132  ...  21.8249  26.4859  32.5726  40.8667   \n",
       "node_4  37.3854  33.7963  28.9947  ...  21.2267  25.8794  30.4144  30.6428   \n",
       "\n",
       "         t_8754   t_8755   t_8756   t_8757   t_8758   t_8759  \n",
       "node_0  43.4275  40.7375  38.7477  34.2279  33.4598  30.3272  \n",
       "node_1  33.0254  31.3358  34.3047  29.0287  31.6259  28.8040  \n",
       "node_2  33.1765  31.4729  34.4325  29.1282  31.7123  28.8642  \n",
       "node_3  40.0649  37.6359  36.6090  31.8292  31.5926  28.8642  \n",
       "node_4  30.2418  28.7951  33.6578  27.9885  31.8053  28.9244  \n",
       "\n",
       "[5 rows x 8760 columns]"
      ]
     },
     "execution_count": 2,
     "metadata": {},
     "output_type": "execute_result"
    }
   ],
   "source": [
    "df = pd.read_csv('./../datasets/all_prices.csv', header=None)\n",
    "df.columns = [f't_{i}' for i in range(len(df.columns))]\n",
    "df.index = [f'node_{i}' for i in range(len(df.index))]\n",
    "df.head()"
   ]
  },
  {
   "cell_type": "markdown",
   "metadata": {},
   "source": [
    "## Prepare Augmented Dataset"
   ]
  },
  {
   "cell_type": "code",
   "execution_count": 3,
   "metadata": {
    "ExecuteTime": {
     "end_time": "2021-06-25T15:41:04.979710Z",
     "start_time": "2021-06-25T15:41:04.975940Z"
    }
   },
   "outputs": [],
   "source": [
    "num_train = 2*24\n",
    "num_predict = 2*24\n",
    "nodes = 100\n",
    "t_in = np.arange(num_train)\n",
    "t_out = np.arange(num_predict) + num_train\n",
    "X_train = df.values[0:nodes, 0:num_train]\n",
    "X_test = df.values[0:nodes, num_train:num_train + num_predict]"
   ]
  },
  {
   "cell_type": "markdown",
   "metadata": {},
   "source": [
    "## Forecast"
   ]
  },
  {
   "cell_type": "code",
   "execution_count": 4,
   "metadata": {
    "ExecuteTime": {
     "end_time": "2021-06-25T15:41:05.186710Z",
     "start_time": "2021-06-25T15:41:04.983408Z"
    }
   },
   "outputs": [],
   "source": [
    "y_test = Augment.make_forecast(X_train, 0, num_train, rank = 7)"
   ]
  },
  {
   "cell_type": "markdown",
   "metadata": {},
   "source": [
    "## Visualize"
   ]
  },
  {
   "cell_type": "code",
   "execution_count": 5,
   "metadata": {
    "ExecuteTime": {
     "end_time": "2021-06-25T15:41:05.485530Z",
     "start_time": "2021-06-25T15:41:05.194503Z"
    }
   },
   "outputs": [
    {
     "data": {
      "image/png": "[encoded data removed]",
      "text/plain": [
       "<Figure size 432x288 with 1 Axes>"
      ]
     },
     "metadata": {
      "needs_background": "light"
     },
     "output_type": "display_data"
    }
   ],
   "source": [
    "node_vis_id = 7\n",
    "fig, ax = plt.subplots()\n",
    "ax.plot(t_in, X_train[node_vis_id], label='Training')\n",
    "ax.plot(t_out, X_test[node_vis_id], label='Testing')\n",
    "ax.plot(t_out, y_test[node_vis_id], label='Forecast')\n",
    "ax.legend()\n",
    "ax.set_xlabel('Time (hours)')\n",
    "ax.set_ylabel('Price')\n",
    "plt.show()"
   ]
  },
  {
   "cell_type": "code",
   "execution_count": null,
   "metadata": {},
   "outputs": [],
   "source": []
  }
 ],
 "metadata": {
  "kernelspec": {
   "display_name": "Python 3",
   "language": "python",
   "name": "python3"
  },
  "language_info": {
   "codemirror_mode": {
    "name": "ipython",
    "version": 3
   },
   "file_extension": ".py",
   "mimetype": "text/x-python",
   "name": "python",
   "nbconvert_exporter": "python",
   "pygments_lexer": "ipython3",
   "version": "3.9.0"
  },
  "toc": {
   "base_numbering": 1,
   "nav_menu": {},
   "number_sections": true,
   "sideBar": true,
   "skip_h1_title": false,
   "title_cell": "Table of Contents",
   "title_sidebar": "Contents",
   "toc_cell": false,
   "toc_position": {},
   "toc_section_display": true,
   "toc_window_display": false
  }
 },
 "nbformat": 4,
 "nbformat_minor": 4
}
